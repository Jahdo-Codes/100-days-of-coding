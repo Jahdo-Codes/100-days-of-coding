{
 "cells": [
  {
   "cell_type": "markdown",
   "id": "b4c65445-72c1-4d65-b788-afe1f5495580",
   "metadata": {},
   "source": [
    "### Day 1"
   ]
  },
  {
   "cell_type": "code",
   "id": "c0af7f82-249c-44ae-81cb-5a5dd026a3a7",
   "metadata": {
    "ExecuteTime": {
     "end_time": "2025-04-01T17:44:44.932241Z",
     "start_time": "2025-04-01T17:44:38.519349Z"
    }
   },
   "source": [
    "print(\"Welcome to the Band Name Generator!\")\n",
    "city = input('What is the name of the city you grew up in?\\n')\n",
    "pet_name = input(\"What was/is your favorite pet's name?\\n\")\n",
    "band_name = city.capitalize() + ' ' + pet_name.capitalize()\n",
    "print(\"Your band name could be: \"+ band_name)"
   ],
   "outputs": [
    {
     "name": "stdout",
     "output_type": "stream",
     "text": [
      "Welcome to the Band Name Generator!\n",
      "Your band name could be: Jgh Bh\n"
     ]
    }
   ],
   "execution_count": 1
  },
  {
   "cell_type": "markdown",
   "id": "2883b860-9bf8-489c-83b1-b97b099ce9ff",
   "metadata": {
    "jp-MarkdownHeadingCollapsed": true
   },
   "source": [
    "### Day 2"
   ]
  },
  {
   "cell_type": "code",
   "id": "4f8817ec-ffcb-489e-9ff3-eb0e5af86f81",
   "metadata": {
    "ExecuteTime": {
     "end_time": "2025-04-01T17:44:58.173577Z",
     "start_time": "2025-04-01T17:44:46.544108Z"
    }
   },
   "source": [
    "print('Welcome to the tip calculator!')\n",
    "total_bill = float(input(\"what is the total bill?: $\"))\n",
    "tip_amount = int(input(\"How much would you like to tip?:\"))\n",
    "tip = total_bill * tip_amount/100\n",
    "total_persons_paying = int(input('How many persons will split the bill?'))\n",
    "split =  (total_bill + tip) / total_persons_paying\n",
    "print('\\nEach person should pay $',round(split,2))"
   ],
   "outputs": [
    {
     "name": "stdout",
     "output_type": "stream",
     "text": [
      "Welcome to the tip calculator!\n",
      "\n",
      "Each person should pay $ 319.93\n"
     ]
    }
   ],
   "execution_count": 2
  },
  {
   "cell_type": "markdown",
   "id": "ac370d56-74b4-402f-8dd8-9b0f03770970",
   "metadata": {
    "jp-MarkdownHeadingCollapsed": true
   },
   "source": [
    "### Day 3"
   ]
  },
  {
   "cell_type": "code",
   "id": "94a47df9-8ebe-4a67-838e-f93eda3f3017",
   "metadata": {
    "ExecuteTime": {
     "end_time": "2025-04-01T17:47:23.365082Z",
     "start_time": "2025-04-01T17:47:14.287035Z"
    }
   },
   "source": [
    "print(\"Welcome to Python Pizza Deliveries!\")\n",
    "size = input(\"What size pizza do you want? S, M or L: \").lower()\n",
    "pepperoni = input(\"Do you want pepperoni on your pizza?: Y or N: \").lower()\n",
    "extra_cheese = input(\"Do you want extra cheese? Y or N: \").lower()\n",
    "\n",
    "price = 0\n",
    "\n",
    "if size == 's':\n",
    "    price += 15\n",
    "elif size == 'm':\n",
    "    price += 20\n",
    "elif size == 'l':\n",
    "    price += 25\n",
    "else:\n",
    "    print(\"You typed the wrong input\")\n",
    "\n",
    "\n",
    "if pepperoni == 'y':\n",
    "    if size == 's':\n",
    "        price += 2\n",
    "    else:\n",
    "        price += 3\n",
    "\n",
    "if extra_cheese == 'y':\n",
    "    price += 1\n",
    "\n",
    "print(f'Your total is: ${price}.00!')\n"
   ],
   "outputs": [
    {
     "name": "stdout",
     "output_type": "stream",
     "text": [
      "Welcome to Python Pizza Deliveries!\n",
      "Your total is: $17.00!\n"
     ]
    }
   ],
   "execution_count": 1
  },
  {
   "metadata": {},
   "cell_type": "markdown",
   "source": "### Day 4",
   "id": "e1f27251592885fb"
  },
  {
   "metadata": {
    "ExecuteTime": {
     "end_time": "2025-04-01T23:10:56.747339Z",
     "start_time": "2025-04-01T23:10:53.798527Z"
    }
   },
   "cell_type": "code",
   "source": [
    "import random\n",
    "\n",
    "\n",
    "rock = (\"\"\"\n",
    "    _______\n",
    "---'   ____)\n",
    "      (_____)\n",
    "      (_____)\n",
    "      (____)\n",
    "---.__(___)\n",
    "\"\"\")\n",
    "\n",
    "paper = (\"\"\"\n",
    "     _______\n",
    "---'    ____)____\n",
    "           ______)\n",
    "          _______)\n",
    "         _______)\n",
    "---.__________)\n",
    "\"\"\")\n",
    "\n",
    "scissors = (\"\"\"\n",
    "    _______\n",
    "---'   ____)____\n",
    "          ______)\n",
    "       __________)\n",
    "      (____)\n",
    "---.__(___)\n",
    "\"\"\")\n",
    "\n",
    "options = [rock, paper, scissors]\n",
    "\n",
    "\n",
    "user_choice = int(input(\"Please enter a number to represent you choice of: Rock (0), paper(1), or scissors(2) \"))\n",
    "if user_choice >= 0 and user_choice <= 2:\n",
    "    print(options[user_choice])\n",
    "\n",
    "    computer_choice = random.randint(0,2)\n",
    "    print(f\"Computer chose {options[computer_choice]}.\")\n",
    "\n",
    "\n",
    "if user_choice >= 3 or user_choice <= 0:\n",
    "    print('You typed an invalid choice!.')\n",
    "elif (user_choice == 0) and (computer_choice == 2):\n",
    "    print(\"You WIN!\")\n",
    "elif (user_choice == 2) and (computer_choice == 0):\n",
    "    print(\"You LOSE!\")\n",
    "elif user_choice > computer_choice:\n",
    "    print(\"You WIN!\")\n",
    "elif computer_choice > user_choice:\n",
    "    print(\"You LOSE!\")\n",
    "\n",
    "else:\n",
    "    print(\"It's a tie!\")"
   ],
   "id": "2bb6981c104f9c81",
   "outputs": [
    {
     "name": "stdout",
     "output_type": "stream",
     "text": [
      "\n",
      "     _______\n",
      "---'    ____)____\n",
      "           ______)\n",
      "          _______)\n",
      "         _______)\n",
      "---.__________)\n",
      "\n",
      "Computer chose \n",
      "    _______\n",
      "---'   ____)\n",
      "      (_____)\n",
      "      (_____)\n",
      "      (____)\n",
      "---.__(___)\n",
      ".\n",
      "You WIN!\n"
     ]
    }
   ],
   "execution_count": 83
  },
  {
   "metadata": {},
   "cell_type": "code",
   "outputs": [],
   "execution_count": null,
   "source": "",
   "id": "9233630e8feca763"
  }
 ],
 "metadata": {
  "kernelspec": {
   "display_name": "Python 3 (ipykernel)",
   "language": "python",
   "name": "python3"
  },
  "language_info": {
   "codemirror_mode": {
    "name": "ipython",
    "version": 3
   },
   "file_extension": ".py",
   "mimetype": "text/x-python",
   "name": "python",
   "nbconvert_exporter": "python",
   "pygments_lexer": "ipython3",
   "version": "3.12.7"
  }
 },
 "nbformat": 4,
 "nbformat_minor": 5
}
