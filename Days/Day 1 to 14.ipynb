{
 "cells": [
  {
   "cell_type": "markdown",
   "id": "b4c65445-72c1-4d65-b788-afe1f5495580",
   "metadata": {},
   "source": [
    "### Day 1"
   ]
  },
  {
   "cell_type": "code",
   "id": "c0af7f82-249c-44ae-81cb-5a5dd026a3a7",
   "metadata": {},
   "source": [
    "from pydeck.bindings import deck\n",
    "\n",
    "print(\"Welcome to the Band Name Generator!\")\n",
    "city = input('What is the name of the city you grew up in?\\n')\n",
    "pet_name = input(\"What was/is your favorite pet's name?\\n\")\n",
    "band_name = city.capitalize() + ' ' + pet_name.capitalize()\n",
    "print(\"Your band name could be: \"+ band_name)"
   ],
   "outputs": [],
   "execution_count": null
  },
  {
   "cell_type": "markdown",
   "id": "2883b860-9bf8-489c-83b1-b97b099ce9ff",
   "metadata": {
    "jp-MarkdownHeadingCollapsed": true
   },
   "source": [
    "### Day 2"
   ]
  },
  {
   "cell_type": "code",
   "id": "4f8817ec-ffcb-489e-9ff3-eb0e5af86f81",
   "metadata": {},
   "source": [
    "print('Welcome to the tip calculator!')\n",
    "total_bill = float(input(\"what is the total bill?: $\"))\n",
    "tip_amount = int(input(\"How much would you like to tip?:\"))\n",
    "tip = total_bill * tip_amount/100\n",
    "total_persons_paying = int(input('How many persons will split the bill?'))\n",
    "split =  (total_bill + tip) / total_persons_paying\n",
    "print('\\nEach person should pay $',round(split,2))"
   ],
   "outputs": [],
   "execution_count": null
  },
  {
   "cell_type": "markdown",
   "id": "ac370d56-74b4-402f-8dd8-9b0f03770970",
   "metadata": {
    "jp-MarkdownHeadingCollapsed": true
   },
   "source": [
    "### Day 3"
   ]
  },
  {
   "cell_type": "code",
   "id": "94a47df9-8ebe-4a67-838e-f93eda3f3017",
   "metadata": {},
   "source": [
    "print(\"Welcome to Python Pizza Deliveries!\")\n",
    "size = input(\"What size pizza do you want? S, M or L: \").lower()\n",
    "pepperoni = input(\"Do you want pepperoni on your pizza?: Y or N: \").lower()\n",
    "extra_cheese = input(\"Do you want extra cheese? Y or N: \").lower()\n",
    "\n",
    "price = 0\n",
    "\n",
    "if size == 's':\n",
    "    price += 15\n",
    "elif size == 'm':\n",
    "    price += 20\n",
    "elif size == 'l':\n",
    "    price += 25\n",
    "else:\n",
    "    print(\"You typed the wrong input\")\n",
    "\n",
    "\n",
    "if pepperoni == 'y':\n",
    "    if size == 's':\n",
    "        price += 2\n",
    "    else:\n",
    "        price += 3\n",
    "\n",
    "if extra_cheese == 'y':\n",
    "    price += 1\n",
    "\n",
    "print(f'Your total is: ${price}.00!')\n"
   ],
   "outputs": [],
   "execution_count": null
  },
  {
   "metadata": {},
   "cell_type": "markdown",
   "source": "### Day 4",
   "id": "e1f27251592885fb"
  },
  {
   "metadata": {},
   "cell_type": "code",
   "source": [
    "import random\n",
    "\n",
    "\n",
    "rock = (\"\"\"\n",
    "    _______\n",
    "---'   ____)\n",
    "      (_____)\n",
    "      (_____)\n",
    "      (____)\n",
    "---.__(___)\n",
    "\"\"\")\n",
    "\n",
    "paper = (\"\"\"\n",
    "     _______\n",
    "---'    ____)____\n",
    "           ______)\n",
    "          _______)\n",
    "         _______)\n",
    "---.__________)\n",
    "\"\"\")\n",
    "\n",
    "scissors = (\"\"\"\n",
    "    _______\n",
    "---'   ____)____\n",
    "          ______)\n",
    "       __________)\n",
    "      (____)\n",
    "---.__(___)\n",
    "\"\"\")\n",
    "\n",
    "options = [rock, paper, scissors]\n",
    "\n",
    "\n",
    "user_choice = int(input(\"Please enter a number to represent you choice of: Rock (0), paper(1), or scissors(2) \"))\n",
    "if user_choice >= 0 and user_choice <= 2:\n",
    "    print(options[user_choice])\n",
    "\n",
    "    computer_choice = random.randint(0,2)\n",
    "    print(f\"Computer chose {options[computer_choice]}.\")\n",
    "\n",
    "\n",
    "if user_choice >= 3 or user_choice <= 0:\n",
    "    print('You typed an invalid choice!.')\n",
    "elif (user_choice == 0) and (computer_choice == 2):\n",
    "    print(\"You WIN!\")\n",
    "elif (user_choice == 2) and (computer_choice == 0):\n",
    "    print(\"You LOSE!\")\n",
    "elif user_choice > computer_choice:\n",
    "    print(\"You WIN!\")\n",
    "elif computer_choice > user_choice:\n",
    "    print(\"You LOSE!\")\n",
    "\n",
    "else:\n",
    "    print(\"It's a tie!\")"
   ],
   "id": "2bb6981c104f9c81",
   "outputs": [],
   "execution_count": null
  },
  {
   "metadata": {},
   "cell_type": "markdown",
   "source": "### Day 5",
   "id": "64de7a20b5ef1d29"
  },
  {
   "metadata": {},
   "cell_type": "code",
   "source": [
    "student_scores = [180, 124, 165, 173, 189, 169, 146]\n",
    "\n",
    "student_total = sum(student_scores)\n",
    "\n",
    "print(student_total)"
   ],
   "id": "67c33634fdd286a3",
   "outputs": [],
   "execution_count": null
  },
  {
   "metadata": {},
   "cell_type": "code",
   "source": [
    "sum = 0\n",
    "for score in student_scores:\n",
    "    sum += score\n",
    "\n",
    "print(sum)"
   ],
   "id": "12802d20cd8bae8",
   "outputs": [],
   "execution_count": null
  },
  {
   "metadata": {},
   "cell_type": "code",
   "source": [
    "student_max_score = max(student_scores)\n",
    "student_max_score"
   ],
   "id": "217a8811f195f8de",
   "outputs": [],
   "execution_count": null
  },
  {
   "metadata": {},
   "cell_type": "code",
   "source": [
    "max = 0\n",
    "for score in student_scores:\n",
    "    if max < score:\n",
    "        max = score\n",
    "print(max)"
   ],
   "id": "65c3e106438e3c17",
   "outputs": [],
   "execution_count": null
  },
  {
   "metadata": {},
   "cell_type": "code",
   "source": [
    "x = 0\n",
    "for i in range(1,101):\n",
    "    x += i\n",
    "print(x)"
   ],
   "id": "b77b15d59e53a1a9",
   "outputs": [],
   "execution_count": null
  },
  {
   "metadata": {},
   "cell_type": "code",
   "source": [
    "for i in range(1,101):\n",
    "    if i % 3 == 0 and i % 5 == 0:\n",
    "        print('FizzBuzz')\n",
    "    elif i % 3 == 0:\n",
    "        print('Fizz')\n",
    "    elif i % 5 == 0:\n",
    "        print('Buzz')\n",
    "    else:\n",
    "        print(i)"
   ],
   "id": "ce1cf75cafab538",
   "outputs": [],
   "execution_count": null
  },
  {
   "metadata": {},
   "cell_type": "code",
   "source": [
    "import string\n",
    "\n",
    "letters = string.ascii_letters\n",
    "letters_list = []\n",
    "for i in range(len(letters)):\n",
    "    letters_list.append(letters[i])\n",
    "\n",
    "print(letters_list)\n",
    "\n",
    "numbers = string.digits\n",
    "numbers_list = []\n",
    "\n",
    "for i in range(len(numbers)):\n",
    "    numbers_list.append(numbers[i])\n",
    "print('\\n',numbers_list)\n",
    "\n",
    "symbols = string.punctuation\n",
    "symbols_list = []\n",
    "for i in range(len(symbols)):\n",
    "    symbols_list.append(symbols[i])\n",
    "print('\\n',symbols_list)\n"
   ],
   "id": "5bad7f1af4d1fd15",
   "outputs": [],
   "execution_count": null
  },
  {
   "metadata": {},
   "cell_type": "code",
   "source": [
    "num_letters = int(input(\"How many letters do you want to use in your password?: \"))\n",
    "num_symbols = int(input(\"How many symbols do you want to use in your password?: \"))\n",
    "num_numbers = int(input(\"How many numbers do you want to use in your password?: \"))\n"
   ],
   "id": "f8275ed281dda7a0",
   "outputs": [],
   "execution_count": null
  },
  {
   "metadata": {},
   "cell_type": "code",
   "source": "import random",
   "id": "24736b59e8efc020",
   "outputs": [],
   "execution_count": null
  },
  {
   "metadata": {},
   "cell_type": "code",
   "source": [
    "# Easy mode\n",
    "\n",
    "password = ''\n",
    "for i in range(num_letters):\n",
    "    password += random.choice(letters_list)\n",
    "for i in range(num_symbols):\n",
    "    password += random.choice(symbols_list)\n",
    "for i in range(num_numbers):\n",
    "    password += random.choice(numbers_list)\n",
    "\n",
    "print(password)"
   ],
   "id": "e28431b4f6a6fbae",
   "outputs": [],
   "execution_count": null
  },
  {
   "metadata": {},
   "cell_type": "code",
   "source": [
    "# Hard mode\n",
    "\n",
    "password = ''\n",
    "for i in range(num_letters):\n",
    "    password += random.choice(letters_list)\n",
    "for i in range(num_symbols):\n",
    "    password += random.choice(symbols_list)\n",
    "for i in range(num_numbers):\n",
    "    password += random.choice(numbers_list)\n",
    "\n",
    "password_list = []\n",
    "for i in range(len(password)):\n",
    "    password_list.append(password[i])\n",
    "\n",
    "random.shuffle(password_list)\n",
    "\n",
    "final_password = ''\n",
    "for i in range(len(password_list)):\n",
    "    final_password += password_list[i]\n",
    "print(f'Here is your final password after shuffling: {final_password}')\n"
   ],
   "id": "e9c7b82b6a59c6e6",
   "outputs": [],
   "execution_count": null
  },
  {
   "metadata": {},
   "cell_type": "markdown",
   "source": "### Reeborg's World - Escaping the MAZE",
   "id": "ba2e95f434118f2d"
  },
  {
   "metadata": {},
   "cell_type": "code",
   "outputs": [],
   "execution_count": null,
   "source": [
    "\"\"\"\n",
    "\n",
    "def turn_right():\n",
    "    for i in range(3):\n",
    "        turn_left()\n",
    "\n",
    "def follow_wall():\n",
    "    if right_is_clear():\n",
    "        turn_right()\n",
    "        move()\n",
    "    elif front_is_clear():\n",
    "        move()\n",
    "    else:\n",
    "        turn_left()\n",
    "\n",
    "# Ensure we are aligned with the wall before starting\n",
    "while front_is_clear():\n",
    "    move()\n",
    "turn_left()\n",
    "\n",
    "# Follow the wall until reaching the goal\n",
    "while not at_goal():\n",
    "    follow_wall()\n",
    "\n",
    "\n",
    "\"\"\""
   ],
   "id": "c400206c875ccbb5"
  },
  {
   "metadata": {},
   "cell_type": "markdown",
   "source": "### Day 7",
   "id": "fd62c2b6d1aa467e"
  },
  {
   "metadata": {
    "ExecuteTime": {
     "end_time": "2025-04-16T22:16:30.055214Z",
     "start_time": "2025-04-16T22:16:15.761930Z"
    }
   },
   "cell_type": "code",
   "source": [
    "import random\n",
    "from ascii_art import stages, logo\n",
    "\n",
    "print(logo[0])  # Display the game logo at the start\n",
    "\n",
    "# STEP 1: Load and Clean Word List\n",
    "# Open the text file containing words and remove any leading/trailing whitespace (like newlines)\n",
    "with open('words.txt', 'r') as file:\n",
    "    lines = [line.strip() for line in file]\n",
    "# Sort the list alphabetically and filter out any words with 3 or fewer characters\n",
    "words = sorted([word for word in lines if len(word) > 3])\n",
    "# Randomly select one word from the cleaned list to be the secret word\n",
    "chosen_word = random.choice(words)\n",
    "print(chosen_word)  # Debugging line to reveal the chosen word\n",
    "\n",
    "# STEP 2: Initialize Game Variables\n",
    "# Create a display with underscores representing each letter in the chosen word\n",
    "# Example: \"apple\" → ['_', '_', '_', '_', '_']\n",
    "display = [\"_\"] * len(chosen_word)\n",
    "\n",
    "# Number of incorrect guesses allowed\n",
    "lives = 6\n",
    "\n",
    "# Keep track of all letters the player has guessed so far\n",
    "guessed_letters = []\n",
    "\n",
    "# STEP 3: Game Loop\n",
    "while lives > 0:\n",
    "    # Show the current progress of the word with guessed letters revealed\n",
    "    print(\" \".join(display))\n",
    "\n",
    "    # Ask the user to guess a letter (converted to lowercase to avoid case issues)\n",
    "    users_guess = input('Guess a letter: ').lower()\n",
    "\n",
    "    # Check if the letter has already been guessed\n",
    "    if users_guess in guessed_letters:\n",
    "        print(\"You guessed this letter already!\")\n",
    "        continue  # Skip the rest of the loop and go to the next iteration\n",
    "\n",
    "    # Add the guess to the list of guessed letters\n",
    "    guessed_letters.append(users_guess)\n",
    "\n",
    "    # Check if the guess is correct\n",
    "    if users_guess in chosen_word:\n",
    "        # Loop through each letter in the chosen word\n",
    "        for i, letter in enumerate(chosen_word):\n",
    "            # If the guessed letter matches the current letter, update the display\n",
    "            if users_guess == letter:\n",
    "                display[i] = users_guess\n",
    "    else:\n",
    "        # If the guessed letter is not in the word\n",
    "        print(\"Wrong letter!\")\n",
    "        # Display the hangman stage based on how many lives are left\n",
    "        print(stages[-(lives)])\n",
    "        # Decrease the number of lives\n",
    "        lives -= 1\n",
    "\n",
    "    # Check for Win Condition\n",
    "    if \"_\" not in display:\n",
    "        # If there are no more underscores, the word is fully guessed\n",
    "        print(\" \".join(display))\n",
    "        print(\"You guessed the word!\")\n",
    "        break  # Exit the loop\n",
    "\n",
    "    # Check for Lose Condition\n",
    "    if lives == 0:\n",
    "        print(\"GAME OVER!\")\n",
    "        print(f\"The word was: {chosen_word}\")\n"
   ],
   "id": "2f7008d229e359dd",
   "outputs": [
    {
     "name": "stdout",
     "output_type": "stream",
     "text": [
      "\n",
      " _                                             \n",
      "| |                                            \n",
      "| |__   __ _ _ __   __ _ _ __ ___   __ _ _ __  \n",
      "| '_ \\ / _` | '_ \\ / _` | '_ ` _ \\ / _` | '_ \\ \n",
      "| | | | (_| | | | | (_| | | | | | | (_| | | | |\n",
      "|_| |_|\\__,_|_| |_|\\__, |_| |_| |_|\\__,_|_| |_|\n",
      "                    __/ |                      \n",
      "                   |___/ \n",
      "\n",
      "strange\n",
      "_ _ _ _ _ _ _\n",
      "_ _ _ a _ _ _\n",
      "Wrong letter!\n",
      "\n",
      "  +---+\n",
      "  |   |\n",
      "  O   |\n",
      "      |\n",
      "      |\n",
      "      |\n",
      "=========\n",
      "_ _ _ a _ _ _\n",
      "You guessed this letter already!\n",
      "_ _ _ a _ _ _\n"
     ]
    },
    {
     "ename": "KeyboardInterrupt",
     "evalue": "Interrupted by user",
     "output_type": "error",
     "traceback": [
      "\u001B[31m---------------------------------------------------------------------------\u001B[39m",
      "\u001B[31mKeyboardInterrupt\u001B[39m                         Traceback (most recent call last)",
      "\u001B[36mCell\u001B[39m\u001B[36m \u001B[39m\u001B[32mIn[71]\u001B[39m\u001B[32m, line 33\u001B[39m\n\u001B[32m     30\u001B[39m \u001B[38;5;28mprint\u001B[39m(\u001B[33m\"\u001B[39m\u001B[33m \u001B[39m\u001B[33m\"\u001B[39m.join(display))\n\u001B[32m     32\u001B[39m \u001B[38;5;66;03m# Ask the user to guess a letter (converted to lowercase to avoid case issues)\u001B[39;00m\n\u001B[32m---> \u001B[39m\u001B[32m33\u001B[39m users_guess = \u001B[38;5;28;43minput\u001B[39;49m\u001B[43m(\u001B[49m\u001B[33;43m'\u001B[39;49m\u001B[33;43mGuess a letter: \u001B[39;49m\u001B[33;43m'\u001B[39;49m\u001B[43m)\u001B[49m.lower()\n\u001B[32m     35\u001B[39m \u001B[38;5;66;03m# Check if the letter has already been guessed\u001B[39;00m\n\u001B[32m     36\u001B[39m \u001B[38;5;28;01mif\u001B[39;00m users_guess \u001B[38;5;129;01min\u001B[39;00m guessed_letters:\n",
      "\u001B[36mFile \u001B[39m\u001B[32m/Library/Frameworks/Python.framework/Versions/3.12/lib/python3.12/site-packages/ipykernel/kernelbase.py:1282\u001B[39m, in \u001B[36mKernel.raw_input\u001B[39m\u001B[34m(self, prompt)\u001B[39m\n\u001B[32m   1280\u001B[39m     msg = \u001B[33m\"\u001B[39m\u001B[33mraw_input was called, but this frontend does not support input requests.\u001B[39m\u001B[33m\"\u001B[39m\n\u001B[32m   1281\u001B[39m     \u001B[38;5;28;01mraise\u001B[39;00m StdinNotImplementedError(msg)\n\u001B[32m-> \u001B[39m\u001B[32m1282\u001B[39m \u001B[38;5;28;01mreturn\u001B[39;00m \u001B[38;5;28;43mself\u001B[39;49m\u001B[43m.\u001B[49m\u001B[43m_input_request\u001B[49m\u001B[43m(\u001B[49m\n\u001B[32m   1283\u001B[39m \u001B[43m    \u001B[49m\u001B[38;5;28;43mstr\u001B[39;49m\u001B[43m(\u001B[49m\u001B[43mprompt\u001B[49m\u001B[43m)\u001B[49m\u001B[43m,\u001B[49m\n\u001B[32m   1284\u001B[39m \u001B[43m    \u001B[49m\u001B[38;5;28;43mself\u001B[39;49m\u001B[43m.\u001B[49m\u001B[43m_parent_ident\u001B[49m\u001B[43m[\u001B[49m\u001B[33;43m\"\u001B[39;49m\u001B[33;43mshell\u001B[39;49m\u001B[33;43m\"\u001B[39;49m\u001B[43m]\u001B[49m\u001B[43m,\u001B[49m\n\u001B[32m   1285\u001B[39m \u001B[43m    \u001B[49m\u001B[38;5;28;43mself\u001B[39;49m\u001B[43m.\u001B[49m\u001B[43mget_parent\u001B[49m\u001B[43m(\u001B[49m\u001B[33;43m\"\u001B[39;49m\u001B[33;43mshell\u001B[39;49m\u001B[33;43m\"\u001B[39;49m\u001B[43m)\u001B[49m\u001B[43m,\u001B[49m\n\u001B[32m   1286\u001B[39m \u001B[43m    \u001B[49m\u001B[43mpassword\u001B[49m\u001B[43m=\u001B[49m\u001B[38;5;28;43;01mFalse\u001B[39;49;00m\u001B[43m,\u001B[49m\n\u001B[32m   1287\u001B[39m \u001B[43m\u001B[49m\u001B[43m)\u001B[49m\n",
      "\u001B[36mFile \u001B[39m\u001B[32m/Library/Frameworks/Python.framework/Versions/3.12/lib/python3.12/site-packages/ipykernel/kernelbase.py:1325\u001B[39m, in \u001B[36mKernel._input_request\u001B[39m\u001B[34m(self, prompt, ident, parent, password)\u001B[39m\n\u001B[32m   1322\u001B[39m \u001B[38;5;28;01mexcept\u001B[39;00m \u001B[38;5;167;01mKeyboardInterrupt\u001B[39;00m:\n\u001B[32m   1323\u001B[39m     \u001B[38;5;66;03m# re-raise KeyboardInterrupt, to truncate traceback\u001B[39;00m\n\u001B[32m   1324\u001B[39m     msg = \u001B[33m\"\u001B[39m\u001B[33mInterrupted by user\u001B[39m\u001B[33m\"\u001B[39m\n\u001B[32m-> \u001B[39m\u001B[32m1325\u001B[39m     \u001B[38;5;28;01mraise\u001B[39;00m \u001B[38;5;167;01mKeyboardInterrupt\u001B[39;00m(msg) \u001B[38;5;28;01mfrom\u001B[39;00m\u001B[38;5;250m \u001B[39m\u001B[38;5;28;01mNone\u001B[39;00m\n\u001B[32m   1326\u001B[39m \u001B[38;5;28;01mexcept\u001B[39;00m \u001B[38;5;167;01mException\u001B[39;00m:\n\u001B[32m   1327\u001B[39m     \u001B[38;5;28mself\u001B[39m.log.warning(\u001B[33m\"\u001B[39m\u001B[33mInvalid Message:\u001B[39m\u001B[33m\"\u001B[39m, exc_info=\u001B[38;5;28;01mTrue\u001B[39;00m)\n",
      "\u001B[31mKeyboardInterrupt\u001B[39m: Interrupted by user"
     ]
    }
   ],
   "execution_count": 71
  },
  {
   "metadata": {
    "ExecuteTime": {
     "end_time": "2025-04-16T22:15:57.635889Z",
     "start_time": "2025-04-16T22:15:57.633280Z"
    }
   },
   "cell_type": "code",
   "source": "print(logo[0])",
   "id": "17df85dc4f43f9ea",
   "outputs": [
    {
     "name": "stdout",
     "output_type": "stream",
     "text": [
      "\n",
      " _                                             \n",
      "| |                                            \n",
      "| |__   __ _ _ __   __ _ _ __ ___   __ _ _ __  \n",
      "| '_ \\ / _` | '_ \\ / _` | '_ ` _ \\ / _` | '_ \\ \n",
      "| | | | (_| | | | | (_| | | | | | | (_| | | | |\n",
      "|_| |_|\\__,_|_| |_|\\__, |_| |_| |_|\\__,_|_| |_|\n",
      "                    __/ |                      \n",
      "                   |___/ \n",
      "\n"
     ]
    }
   ],
   "execution_count": 69
  },
  {
   "metadata": {},
   "cell_type": "markdown",
   "source": "### Day 8",
   "id": "30958f858591485a"
  },
  {
   "metadata": {
    "ExecuteTime": {
     "end_time": "2025-04-11T02:42:17.934457Z",
     "start_time": "2025-04-11T02:42:17.930247Z"
    }
   },
   "cell_type": "code",
   "source": "import string",
   "id": "19e081fc202530fa",
   "outputs": [],
   "execution_count": 1
  },
  {
   "metadata": {
    "ExecuteTime": {
     "end_time": "2025-04-11T03:34:00.218786Z",
     "start_time": "2025-04-11T03:33:47.019504Z"
    }
   },
   "cell_type": "code",
   "source": [
    "# Caesar Cipher Function\n",
    "def caesar(original_text, shift_amount, encode_or_decode):\n",
    "    # Create the output string\n",
    "    output_text = \"\"\n",
    "\n",
    "    # Reverse shift if decoding\n",
    "    if encode_or_decode == \"decode\":\n",
    "        shift_amount *= -1\n",
    "\n",
    "    # Loop through each character in the text\n",
    "    for letter in original_text.lower():\n",
    "\n",
    "        if letter not in alphabet:\n",
    "            output_text += letter\n",
    "\n",
    "        else:\n",
    "            if letter in alphabet:\n",
    "                # Find the new shifted position\n",
    "                shifted_position = alphabet.index(letter) + shift_amount\n",
    "                # Wrap around the alphabet\n",
    "                shifted_position %= len(alphabet)\n",
    "                # Add shifted letter to output\n",
    "                output_text += alphabet[shifted_position]\n",
    "            else:\n",
    "                # Keep non-alphabet characters unchanged\n",
    "                output_text += letter\n",
    "\n",
    "    print(f\"Here is your {encode_or_decode}d text: {output_text}\")\n"
   ],
   "id": "7213684bebefd2f",
   "outputs": [
    {
     "name": "stdout",
     "output_type": "stream",
     "text": [
      "Here is your encoded text: jgnnq545\n"
     ]
    }
   ],
   "execution_count": 80
  },
  {
   "metadata": {
    "ExecuteTime": {
     "end_time": "2025-04-11T03:37:17.664501Z",
     "start_time": "2025-04-11T03:36:59.259850Z"
    }
   },
   "cell_type": "code",
   "source": [
    "messaging = True\n",
    "while messaging:\n",
    "    # Prepare the alphabet\n",
    "    alphabet = list(string.ascii_lowercase)\n",
    "\n",
    "    # User input\n",
    "    direction = input('Type \"encode\" to encrypt, or \"decode\" to decrypt:\\n').lower()\n",
    "    text = input(\"Type your message:\\n\")\n",
    "    shift = int(input(\"Type the shift number:\\n\"))\n",
    "\n",
    "    # Call the Caesar function\n",
    "    caesar(original_text=text, shift_amount=shift, encode_or_decode=direction)\n",
    "    continue_messaging = input(\"Would you like to continue? (y/n): \").lower()\n",
    "    if continue_messaging == \"y\":\n",
    "        messaging = True\n",
    "    else:\n",
    "        messaging = False"
   ],
   "id": "870f815bc97a7a29",
   "outputs": [
    {
     "name": "stdout",
     "output_type": "stream",
     "text": [
      "Here is your encryptd text: jgnnq\n"
     ]
    }
   ],
   "execution_count": 81
  },
  {
   "metadata": {},
   "cell_type": "markdown",
   "source": "### Day 9",
   "id": "4bd739148c4b08b6"
  },
  {
   "metadata": {
    "ExecuteTime": {
     "end_time": "2025-04-12T02:25:09.123045Z",
     "start_time": "2025-04-12T02:24:35.806248Z"
    }
   },
   "cell_type": "code",
   "source": [
    "bids = {}\n",
    "\n",
    "bidding = True\n",
    "\n",
    "while bidding:\n",
    "    current_bidder = input(\"What is your name?: \").capitalize()\n",
    "    current_bid = float(input(\"What is your bid?: \"))\n",
    "    bids[current_bidder] = current_bid\n",
    "    end_bidding = input(\"Would you like to play again? (y/n): \").lower()\n",
    "    if end_bidding == \"y\":\n",
    "        bidding = True\n",
    "    else:\n",
    "        bidding = False\n",
    "\n",
    "top_bid = 0.0\n",
    "max_bidder = \"\"\n",
    "for key in bids:\n",
    "    highest_bid = bids[key]\n",
    "    if highest_bid > top_bid:\n",
    "        top_bid = highest_bid\n",
    "        max_bidder = key\n",
    "    else:\n",
    "        top_bid = top_bid\n",
    "        max_bidder = max_bidder\n",
    "print(f'The winner is {max_bidder} with a bid of ${top_bid}')"
   ],
   "id": "ade4ac47e13bbdc6",
   "outputs": [],
   "execution_count": 23
  },
  {
   "metadata": {},
   "cell_type": "markdown",
   "source": "### Day 10",
   "id": "cfdeced4123db590"
  },
  {
   "metadata": {
    "ExecuteTime": {
     "end_time": "2025-04-16T20:55:15.433924Z",
     "start_time": "2025-04-16T20:55:15.430379Z"
    }
   },
   "cell_type": "code",
   "source": [
    "def is_leap_year(year):\n",
    "    if year % 4 == 0:\n",
    "        if year % 100 == 0:\n",
    "            if year % 400 == 0:\n",
    "                return True\n",
    "            else:\n",
    "               return False\n",
    "        else:\n",
    "            return True\n",
    "    else:\n",
    "        return False"
   ],
   "id": "9880ec40143c54c0",
   "outputs": [],
   "execution_count": 4
  },
  {
   "metadata": {
    "ExecuteTime": {
     "end_time": "2025-04-16T20:58:47.277683Z",
     "start_time": "2025-04-16T20:58:47.271239Z"
    }
   },
   "cell_type": "code",
   "source": "is_leap_year(200)",
   "id": "94d5b714335d6aab",
   "outputs": [
    {
     "data": {
      "text/plain": [
       "False"
      ]
     },
     "execution_count": 7,
     "metadata": {},
     "output_type": "execute_result"
    }
   ],
   "execution_count": 7
  },
  {
   "metadata": {
    "ExecuteTime": {
     "end_time": "2025-04-16T22:16:43.853701Z",
     "start_time": "2025-04-16T22:16:43.849408Z"
    }
   },
   "cell_type": "code",
   "source": [
    "from ascii_art import calculator_image\n",
    "\n",
    "# Building a calculator\n",
    "def operations(input_1, input_2, operation):\n",
    "    if operation == '+':\n",
    "        return input_1 + input_2\n",
    "    elif operation == '-':\n",
    "        return input_1 - input_2\n",
    "    elif operation == '*':\n",
    "        return input_1 * input_2\n",
    "    elif operation == '/':\n",
    "        return input_1 / input_2\n",
    "    else:\n",
    "        return print(\"Invalid operation!\")\n",
    "\n",
    "def calculator():\n",
    "    print(calculator_image[0])\n",
    "    input_1 = float(input(\"What is your first number?: \"))\n",
    "\n",
    "    operation_list = [\"+\", \"-\", \"*\", \"/\"]\n",
    "    should_accumulate = True\n",
    "\n",
    "    while should_accumulate:\n",
    "\n",
    "        print('Usable operations:')\n",
    "        for operation in operation_list:\n",
    "            print(operation)\n",
    "\n",
    "        operation_symbol = input(\"Pick an operation symbol?: \")\n",
    "        input_2 = float(input(\"What is your second number?: \"))\n",
    "        answer = operations(input_1, input_2, operation_symbol)\n",
    "\n",
    "        print(f\"{input_1} {operation_symbol} {input_2} = {answer}\")\n",
    "\n",
    "        choice = input(f\"Type 'y' to calculate again with {answer}? or 'n' to start a new calculation: \").lower()\n",
    "\n",
    "        if choice == \"y\":\n",
    "            input_1 = answer\n",
    "        elif choice == \"n\":\n",
    "            should_accumulate = False\n",
    "            calculator()\n",
    "        else:\n",
    "            should_accumulate = False\n",
    "\n"
   ],
   "id": "9369c186cc640d2e",
   "outputs": [],
   "execution_count": 72
  },
  {
   "metadata": {
    "ExecuteTime": {
     "end_time": "2025-04-16T22:16:47.499921Z",
     "start_time": "2025-04-16T22:16:45.985314Z"
    }
   },
   "cell_type": "code",
   "source": "calculator()",
   "id": "bef91ebbec506558",
   "outputs": [
    {
     "name": "stdout",
     "output_type": "stream",
     "text": [
      " \n",
      "\n",
      " _____________________\n",
      "|  _________________  |\n",
      "| | JO           0. | |\n",
      "| |_________________| |\n",
      "|  ___ ___ ___   ___  |\n",
      "| | 7 | 8 | 9 | | + | |\n",
      "| |___|___|___| |___| |\n",
      "| | 4 | 5 | 6 | | - | |\n",
      "| |___|___|___| |___| |\n",
      "| | 1 | 2 | 3 | | x | |\n",
      "| |___|___|___| |___| |\n",
      "| | . | 0 | = | | / | |\n",
      "| |___|___|___| |___| |\n",
      "|_____________________|\n",
      "\n"
     ]
    },
    {
     "ename": "KeyboardInterrupt",
     "evalue": "Interrupted by user",
     "output_type": "error",
     "traceback": [
      "\u001B[31m---------------------------------------------------------------------------\u001B[39m",
      "\u001B[31mKeyboardInterrupt\u001B[39m                         Traceback (most recent call last)",
      "\u001B[36mCell\u001B[39m\u001B[36m \u001B[39m\u001B[32mIn[73]\u001B[39m\u001B[32m, line 1\u001B[39m\n\u001B[32m----> \u001B[39m\u001B[32m1\u001B[39m \u001B[43mcalculator\u001B[49m\u001B[43m(\u001B[49m\u001B[43m)\u001B[49m\n",
      "\u001B[36mCell\u001B[39m\u001B[36m \u001B[39m\u001B[32mIn[72]\u001B[39m\u001B[32m, line 18\u001B[39m, in \u001B[36mcalculator\u001B[39m\u001B[34m()\u001B[39m\n\u001B[32m     16\u001B[39m \u001B[38;5;28;01mdef\u001B[39;00m\u001B[38;5;250m \u001B[39m\u001B[34mcalculator\u001B[39m():\n\u001B[32m     17\u001B[39m     \u001B[38;5;28mprint\u001B[39m(calculator_image[\u001B[32m0\u001B[39m])\n\u001B[32m---> \u001B[39m\u001B[32m18\u001B[39m     input_1 = \u001B[38;5;28mfloat\u001B[39m(\u001B[38;5;28;43minput\u001B[39;49m\u001B[43m(\u001B[49m\u001B[33;43m\"\u001B[39;49m\u001B[33;43mWhat is your first number?: \u001B[39;49m\u001B[33;43m\"\u001B[39;49m\u001B[43m)\u001B[49m)\n\u001B[32m     20\u001B[39m     operation_list = [\u001B[33m\"\u001B[39m\u001B[33m+\u001B[39m\u001B[33m\"\u001B[39m, \u001B[33m\"\u001B[39m\u001B[33m-\u001B[39m\u001B[33m\"\u001B[39m, \u001B[33m\"\u001B[39m\u001B[33m*\u001B[39m\u001B[33m\"\u001B[39m, \u001B[33m\"\u001B[39m\u001B[33m/\u001B[39m\u001B[33m\"\u001B[39m]\n\u001B[32m     21\u001B[39m     should_accumulate = \u001B[38;5;28;01mTrue\u001B[39;00m\n",
      "\u001B[36mFile \u001B[39m\u001B[32m/Library/Frameworks/Python.framework/Versions/3.12/lib/python3.12/site-packages/ipykernel/kernelbase.py:1282\u001B[39m, in \u001B[36mKernel.raw_input\u001B[39m\u001B[34m(self, prompt)\u001B[39m\n\u001B[32m   1280\u001B[39m     msg = \u001B[33m\"\u001B[39m\u001B[33mraw_input was called, but this frontend does not support input requests.\u001B[39m\u001B[33m\"\u001B[39m\n\u001B[32m   1281\u001B[39m     \u001B[38;5;28;01mraise\u001B[39;00m StdinNotImplementedError(msg)\n\u001B[32m-> \u001B[39m\u001B[32m1282\u001B[39m \u001B[38;5;28;01mreturn\u001B[39;00m \u001B[38;5;28;43mself\u001B[39;49m\u001B[43m.\u001B[49m\u001B[43m_input_request\u001B[49m\u001B[43m(\u001B[49m\n\u001B[32m   1283\u001B[39m \u001B[43m    \u001B[49m\u001B[38;5;28;43mstr\u001B[39;49m\u001B[43m(\u001B[49m\u001B[43mprompt\u001B[49m\u001B[43m)\u001B[49m\u001B[43m,\u001B[49m\n\u001B[32m   1284\u001B[39m \u001B[43m    \u001B[49m\u001B[38;5;28;43mself\u001B[39;49m\u001B[43m.\u001B[49m\u001B[43m_parent_ident\u001B[49m\u001B[43m[\u001B[49m\u001B[33;43m\"\u001B[39;49m\u001B[33;43mshell\u001B[39;49m\u001B[33;43m\"\u001B[39;49m\u001B[43m]\u001B[49m\u001B[43m,\u001B[49m\n\u001B[32m   1285\u001B[39m \u001B[43m    \u001B[49m\u001B[38;5;28;43mself\u001B[39;49m\u001B[43m.\u001B[49m\u001B[43mget_parent\u001B[49m\u001B[43m(\u001B[49m\u001B[33;43m\"\u001B[39;49m\u001B[33;43mshell\u001B[39;49m\u001B[33;43m\"\u001B[39;49m\u001B[43m)\u001B[49m\u001B[43m,\u001B[49m\n\u001B[32m   1286\u001B[39m \u001B[43m    \u001B[49m\u001B[43mpassword\u001B[49m\u001B[43m=\u001B[49m\u001B[38;5;28;43;01mFalse\u001B[39;49;00m\u001B[43m,\u001B[49m\n\u001B[32m   1287\u001B[39m \u001B[43m\u001B[49m\u001B[43m)\u001B[49m\n",
      "\u001B[36mFile \u001B[39m\u001B[32m/Library/Frameworks/Python.framework/Versions/3.12/lib/python3.12/site-packages/ipykernel/kernelbase.py:1325\u001B[39m, in \u001B[36mKernel._input_request\u001B[39m\u001B[34m(self, prompt, ident, parent, password)\u001B[39m\n\u001B[32m   1322\u001B[39m \u001B[38;5;28;01mexcept\u001B[39;00m \u001B[38;5;167;01mKeyboardInterrupt\u001B[39;00m:\n\u001B[32m   1323\u001B[39m     \u001B[38;5;66;03m# re-raise KeyboardInterrupt, to truncate traceback\u001B[39;00m\n\u001B[32m   1324\u001B[39m     msg = \u001B[33m\"\u001B[39m\u001B[33mInterrupted by user\u001B[39m\u001B[33m\"\u001B[39m\n\u001B[32m-> \u001B[39m\u001B[32m1325\u001B[39m     \u001B[38;5;28;01mraise\u001B[39;00m \u001B[38;5;167;01mKeyboardInterrupt\u001B[39;00m(msg) \u001B[38;5;28;01mfrom\u001B[39;00m\u001B[38;5;250m \u001B[39m\u001B[38;5;28;01mNone\u001B[39;00m\n\u001B[32m   1326\u001B[39m \u001B[38;5;28;01mexcept\u001B[39;00m \u001B[38;5;167;01mException\u001B[39;00m:\n\u001B[32m   1327\u001B[39m     \u001B[38;5;28mself\u001B[39m.log.warning(\u001B[33m\"\u001B[39m\u001B[33mInvalid Message:\u001B[39m\u001B[33m\"\u001B[39m, exc_info=\u001B[38;5;28;01mTrue\u001B[39;00m)\n",
      "\u001B[31mKeyboardInterrupt\u001B[39m: Interrupted by user"
     ]
    }
   ],
   "execution_count": 73
  },
  {
   "metadata": {},
   "cell_type": "markdown",
   "source": "### Day 11",
   "id": "9017e45d53cbdb36"
  },
  {
   "metadata": {
    "ExecuteTime": {
     "end_time": "2025-04-24T09:44:15.453184Z",
     "start_time": "2025-04-24T09:44:15.448221Z"
    }
   },
   "cell_type": "code",
   "source": [
    "import random\n",
    "from ascii_art import blackjack_image\n",
    "\n",
    "def deal_card():\n",
    "    # Return a random card from the deck\n",
    "    cards = [1,2,3,4,5,6,7,8,9,10,10,10,10,11]\n",
    "    card = random.choice(cards)\n",
    "    return card\n",
    "\n",
    "# Calculates the score\n",
    "def calculate_score(cards):\n",
    "    # Return 0 to indict that player has gotten 21 with their first 2 cards\n",
    "    if sum(cards) == 21 and len(cards) == 2:\n",
    "        return 0\n",
    "    # Allows the user to turn an ace (11 or 1) from its higher value\n",
    "    if sum(cards) > 21 and 11 in cards:\n",
    "        cards.remove(11)\n",
    "        cards.append(1)\n",
    "\n",
    "    return sum(cards)\n",
    "\n",
    "# Check conditions to determine win or lose\n",
    "def compare_scores(u_score, c_score):\n",
    "    if u_score == c_score:\n",
    "        return \"Draw\"\n",
    "    elif c_score == 0:\n",
    "        return \"Lose, opponent has blackjack\"\n",
    "    elif u_score == 0:\n",
    "        return \"You win with blackjack\"\n",
    "    elif u_score > 21:\n",
    "        return \"You lose. You went over!\"\n",
    "    elif c_score > 21:\n",
    "        return \"Dealer went over 21!. You win!\"\n",
    "    elif u_score > c_score:\n",
    "        return \"You win!\"\n",
    "    else:\n",
    "        return \"You lose\""
   ],
   "id": "b5e19a84fe26aee1",
   "outputs": [],
   "execution_count": 38
  },
  {
   "metadata": {
    "ExecuteTime": {
     "end_time": "2025-04-24T10:05:33.974234Z",
     "start_time": "2025-04-24T10:05:33.970492Z"
    }
   },
   "cell_type": "code",
   "source": [
    "def play_game():\n",
    "    print(blackjack_image)\n",
    "    computer_cards = []\n",
    "    user_cards = []\n",
    "    computer_score = -1\n",
    "    user_score = -1\n",
    "\n",
    "    for _ in range(2):\n",
    "        user_cards.append(deal_card())\n",
    "        computer_cards.append(deal_card())\n",
    "    is_game_over = False\n",
    "\n",
    "    while not is_game_over:\n",
    "        user_score = calculate_score(user_cards)\n",
    "        computer_score = calculate_score(computer_cards)\n",
    "        print(f\"Your cards: {user_cards}, current score: {user_score}\")\n",
    "        print(f\"Computer first card: {computer_cards[0]}\")\n",
    "\n",
    "        if user_score == 0 or computer_score == 0 or user_score > 21:\n",
    "            is_game_over = True\n",
    "            print(\"Game over!\")\n",
    "        else:\n",
    "            deal_again = input(\"Type 'y' to play again or 'n' to end the game: \")\n",
    "            if deal_again == \"y\":\n",
    "                user_cards.append(deal_card())\n",
    "            else:\n",
    "                is_game_over = True\n",
    "\n",
    "    while computer_score != 0 and computer_score < 17:\n",
    "        computer_cards.append(deal_card())\n",
    "        computer_score = calculate_score(computer_cards)\n",
    "\n",
    "    print(f\"Dealer's final hand: {computer_cards}, final score: {computer_score}\")\n",
    "    print(f\"Player's final hand: {user_cards}, final score: {user_score}\")\n",
    "    print(compare_scores(user_score, computer_score))"
   ],
   "id": "e340e3df60a1920",
   "outputs": [],
   "execution_count": 64
  },
  {
   "metadata": {
    "ExecuteTime": {
     "end_time": "2025-04-24T10:06:20.854776Z",
     "start_time": "2025-04-24T10:06:08.461220Z"
    }
   },
   "cell_type": "code",
   "source": [
    "while input(\"DO you want to play Blackjack? (y/n): \".lower()) == \"y\":\n",
    "    play_game()\n"
   ],
   "id": "18264cced45d652f",
   "outputs": [
    {
     "name": "stdout",
     "output_type": "stream",
     "text": [
      "\n",
      " _     _            _    _            _    \n",
      "| |   | |          | |  (_)          | |   \n",
      "| |__ | | __ _  ___| | ___  __ _  ___| | __\n",
      "| '_ \\| |/ _` |/ __| |/ / |/ _` |/ __| |/ /\n",
      "| |_) | | (_| | (__|   <| | (_| | (__|   < \n",
      "|_.__/|_|\\__,_|\\___|_|\\_\\ |\\__,_|\\___|_|\\_\n",
      "                       _/ |                \n",
      "                      |__/                \n",
      "\n",
      "Your cards: [10, 6], current score: 16\n",
      "Computer first card: 7\n",
      "Dealer's final hand: [7, 1, 11], final score: 19\n",
      "Player's final hand: [10, 6], final score: 16\n",
      "You lose\n"
     ]
    }
   ],
   "execution_count": 66
  },
  {
   "metadata": {},
   "cell_type": "code",
   "outputs": [],
   "execution_count": null,
   "source": "",
   "id": "c2c39689b6daee48"
  }
 ],
 "metadata": {
  "kernelspec": {
   "display_name": "Python 3 (ipykernel)",
   "language": "python",
   "name": "python3"
  },
  "language_info": {
   "codemirror_mode": {
    "name": "ipython",
    "version": 3
   },
   "file_extension": ".py",
   "mimetype": "text/x-python",
   "name": "python",
   "nbconvert_exporter": "python",
   "pygments_lexer": "ipython3",
   "version": "3.12.7"
  }
 },
 "nbformat": 4,
 "nbformat_minor": 5
}
