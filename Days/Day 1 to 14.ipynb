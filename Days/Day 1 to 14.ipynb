{
 "cells": [
  {
   "cell_type": "markdown",
   "id": "b4c65445-72c1-4d65-b788-afe1f5495580",
   "metadata": {},
   "source": [
    "### Day 1"
   ]
  },
  {
   "cell_type": "code",
   "execution_count": 10,
   "id": "c0af7f82-249c-44ae-81cb-5a5dd026a3a7",
   "metadata": {},
   "outputs": [
    {
     "name": "stdout",
     "output_type": "stream",
     "text": [
      "Welcome to the Band Name Generator!\n"
     ]
    },
    {
     "name": "stdin",
     "output_type": "stream",
     "text": [
      "What is the name of the city you grew up in?\n",
      " sun\n",
      "What was/is your favorite pet's name?\n",
      " dale\n"
     ]
    },
    {
     "name": "stdout",
     "output_type": "stream",
     "text": [
      "Your band name could be:Sun Dale\n"
     ]
    }
   ],
   "source": [
    "print(\"Welcome to the Band Name Generator!\")\n",
    "city = input('What is the name of the city you grew up in?\\n')\n",
    "pet_name = input(\"What was/is your favorite pet's name?\\n\")\n",
    "band_name = city.capitalize() + ' ' + pet_name.capitalize()\n",
    "print(\"Your band name could be: \"+ band_name)"
   ]
  },
  {
   "cell_type": "markdown",
   "id": "2883b860-9bf8-489c-83b1-b97b099ce9ff",
   "metadata": {
    "jp-MarkdownHeadingCollapsed": true
   },
   "source": [
    "### Day 2"
   ]
  },
  {
   "cell_type": "code",
   "execution_count": 33,
   "id": "4f8817ec-ffcb-489e-9ff3-eb0e5af86f81",
   "metadata": {},
   "outputs": [
    {
     "name": "stdout",
     "output_type": "stream",
     "text": [
      "Welcome to the tip calculator!\n"
     ]
    },
    {
     "name": "stdin",
     "output_type": "stream",
     "text": [
      "what is the total bill?: $ 765\n",
      "How much would you like to tip?: 10\n",
      "How many persons will split the bill? 3\n"
     ]
    },
    {
     "name": "stdout",
     "output_type": "stream",
     "text": [
      "\n",
      "Each person should pay $ 280.5\n"
     ]
    }
   ],
   "source": [
    "print('Welcome to the tip calculator!')\n",
    "total_bill = float(input(\"what is the total bill?: $\"))\n",
    "tip_amount = int(input(\"How much would you like to tip?:\"))\n",
    "tip = total_bill * tip_amount/100\n",
    "total_persons_paying = int(input('How many persons will split the bill?'))\n",
    "split =  (total_bill + tip) / total_persons_paying\n",
    "print('\\nEach person should pay $',round(split,2))"
   ]
  },
  {
   "cell_type": "markdown",
   "id": "ac370d56-74b4-402f-8dd8-9b0f03770970",
   "metadata": {
    "jp-MarkdownHeadingCollapsed": true
   },
   "source": [
    "### Day 3"
   ]
  },
  {
   "cell_type": "code",
   "execution_count": 54,
   "id": "94a47df9-8ebe-4a67-838e-f93eda3f3017",
   "metadata": {},
   "outputs": [
    {
     "name": "stdout",
     "output_type": "stream",
     "text": [
      "Welcome to Python Pizza Deliveries!\n"
     ]
    },
    {
     "name": "stdin",
     "output_type": "stream",
     "text": [
      "What size pizza do you want? S, M or L:  L\n",
      "Do you want pepperoni on your pizza?: Y or N:  Y\n",
      "Do you want extra cheese? Y or N:  Y\n"
     ]
    }
   ],
   "source": [
    "print(\"Welcome to Python Pizza Deliveries!\")\n",
    "size = input(\"What size pizza do you want? S, M or L: \").lower()\n",
    "pepperoni = input(\"Do you want pepperoni on your pizza?: Y or N: \").lower()\n",
    "extra_cheese = input(\"Do you want extra cheese? Y or N: \").lower()\n"
   ]
  },
  {
   "cell_type": "code",
   "execution_count": 61,
   "id": "40ee18fa-defc-4154-8f61-90838c082b7b",
   "metadata": {},
   "outputs": [],
   "source": [
    "price = 0\n",
    "\n",
    "if size == 's':\n",
    "    price += 15\n",
    "elif size == 'm':\n",
    "    price += 20\n",
    "elif size == 'l':\n",
    "    price += 25\n",
    "else:\n",
    "    print(\"You typed the wrong input\")\n",
    "    "
   ]
  },
  {
   "cell_type": "code",
   "execution_count": 62,
   "id": "4dadd21f-6737-4514-bd52-23eae6fe0990",
   "metadata": {},
   "outputs": [],
   "source": [
    "if pepperoni == 'y':\n",
    "    if size == 's':\n",
    "        price += 2\n",
    "    else:\n",
    "        price += 3"
   ]
  },
  {
   "cell_type": "code",
   "execution_count": 67,
   "id": "fdd4477e-2ff1-4e2e-9082-9b10d6e5c239",
   "metadata": {},
   "outputs": [
    {
     "name": "stdout",
     "output_type": "stream",
     "text": [
      "Your total is: $33.00!\n"
     ]
    }
   ],
   "source": [
    "if extra_cheese == 'y':\n",
    "    price += 1\n",
    "\n",
    "print(f'Your total is: ${price}.00!')"
   ]
  },
  {
   "cell_type": "code",
   "execution_count": null,
   "id": "3d87a727-d759-4258-8556-fdb17a082d3a",
   "metadata": {},
   "outputs": [],
   "source": []
  },
  {
   "cell_type": "code",
   "execution_count": null,
   "id": "9b48bd02-e806-4af4-9c04-45d18505d527",
   "metadata": {},
   "outputs": [],
   "source": []
  }
 ],
 "metadata": {
  "kernelspec": {
   "display_name": "Python 3 (ipykernel)",
   "language": "python",
   "name": "python3"
  },
  "language_info": {
   "codemirror_mode": {
    "name": "ipython",
    "version": 3
   },
   "file_extension": ".py",
   "mimetype": "text/x-python",
   "name": "python",
   "nbconvert_exporter": "python",
   "pygments_lexer": "ipython3",
   "version": "3.12.7"
  }
 },
 "nbformat": 4,
 "nbformat_minor": 5
}
