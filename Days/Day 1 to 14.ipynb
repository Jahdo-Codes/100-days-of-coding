{
 "cells": [
  {
   "cell_type": "markdown",
   "id": "b4c65445-72c1-4d65-b788-afe1f5495580",
   "metadata": {},
   "source": [
    "### Day 1"
   ]
  },
  {
   "cell_type": "code",
   "id": "c0af7f82-249c-44ae-81cb-5a5dd026a3a7",
   "metadata": {
    "ExecuteTime": {
     "end_time": "2025-04-01T17:44:44.932241Z",
     "start_time": "2025-04-01T17:44:38.519349Z"
    }
   },
   "source": [
    "print(\"Welcome to the Band Name Generator!\")\n",
    "city = input('What is the name of the city you grew up in?\\n')\n",
    "pet_name = input(\"What was/is your favorite pet's name?\\n\")\n",
    "band_name = city.capitalize() + ' ' + pet_name.capitalize()\n",
    "print(\"Your band name could be: \"+ band_name)"
   ],
   "outputs": [
    {
     "name": "stdout",
     "output_type": "stream",
     "text": [
      "Welcome to the Band Name Generator!\n",
      "Your band name could be: Jgh Bh\n"
     ]
    }
   ],
   "execution_count": 1
  },
  {
   "cell_type": "markdown",
   "id": "2883b860-9bf8-489c-83b1-b97b099ce9ff",
   "metadata": {
    "jp-MarkdownHeadingCollapsed": true
   },
   "source": [
    "### Day 2"
   ]
  },
  {
   "cell_type": "code",
   "id": "4f8817ec-ffcb-489e-9ff3-eb0e5af86f81",
   "metadata": {
    "ExecuteTime": {
     "end_time": "2025-04-01T17:44:58.173577Z",
     "start_time": "2025-04-01T17:44:46.544108Z"
    }
   },
   "source": [
    "print('Welcome to the tip calculator!')\n",
    "total_bill = float(input(\"what is the total bill?: $\"))\n",
    "tip_amount = int(input(\"How much would you like to tip?:\"))\n",
    "tip = total_bill * tip_amount/100\n",
    "total_persons_paying = int(input('How many persons will split the bill?'))\n",
    "split =  (total_bill + tip) / total_persons_paying\n",
    "print('\\nEach person should pay $',round(split,2))"
   ],
   "outputs": [
    {
     "name": "stdout",
     "output_type": "stream",
     "text": [
      "Welcome to the tip calculator!\n",
      "\n",
      "Each person should pay $ 319.93\n"
     ]
    }
   ],
   "execution_count": 2
  },
  {
   "cell_type": "markdown",
   "id": "ac370d56-74b4-402f-8dd8-9b0f03770970",
   "metadata": {
    "jp-MarkdownHeadingCollapsed": true
   },
   "source": [
    "### Day 3"
   ]
  },
  {
   "cell_type": "code",
   "id": "94a47df9-8ebe-4a67-838e-f93eda3f3017",
   "metadata": {
    "ExecuteTime": {
     "end_time": "2025-04-01T17:47:23.365082Z",
     "start_time": "2025-04-01T17:47:14.287035Z"
    }
   },
   "source": [
    "print(\"Welcome to Python Pizza Deliveries!\")\n",
    "size = input(\"What size pizza do you want? S, M or L: \").lower()\n",
    "pepperoni = input(\"Do you want pepperoni on your pizza?: Y or N: \").lower()\n",
    "extra_cheese = input(\"Do you want extra cheese? Y or N: \").lower()\n",
    "\n",
    "price = 0\n",
    "\n",
    "if size == 's':\n",
    "    price += 15\n",
    "elif size == 'm':\n",
    "    price += 20\n",
    "elif size == 'l':\n",
    "    price += 25\n",
    "else:\n",
    "    print(\"You typed the wrong input\")\n",
    "\n",
    "\n",
    "if pepperoni == 'y':\n",
    "    if size == 's':\n",
    "        price += 2\n",
    "    else:\n",
    "        price += 3\n",
    "\n",
    "if extra_cheese == 'y':\n",
    "    price += 1\n",
    "\n",
    "print(f'Your total is: ${price}.00!')\n"
   ],
   "outputs": [
    {
     "name": "stdout",
     "output_type": "stream",
     "text": [
      "Welcome to Python Pizza Deliveries!\n",
      "Your total is: $17.00!\n"
     ]
    }
   ],
   "execution_count": 1
  },
  {
   "cell_type": "code",
   "execution_count": null,
   "id": "3d87a727-d759-4258-8556-fdb17a082d3a",
   "metadata": {},
   "outputs": [],
   "source": []
  },
  {
   "cell_type": "code",
   "execution_count": null,
   "id": "9b48bd02-e806-4af4-9c04-45d18505d527",
   "metadata": {},
   "outputs": [],
   "source": []
  }
 ],
 "metadata": {
  "kernelspec": {
   "display_name": "Python 3 (ipykernel)",
   "language": "python",
   "name": "python3"
  },
  "language_info": {
   "codemirror_mode": {
    "name": "ipython",
    "version": 3
   },
   "file_extension": ".py",
   "mimetype": "text/x-python",
   "name": "python",
   "nbconvert_exporter": "python",
   "pygments_lexer": "ipython3",
   "version": "3.12.7"
  }
 },
 "nbformat": 4,
 "nbformat_minor": 5
}
