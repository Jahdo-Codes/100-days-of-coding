{
 "cells": [
  {
   "cell_type": "markdown",
   "id": "b4c65445-72c1-4d65-b788-afe1f5495580",
   "metadata": {},
   "source": [
    "### Day 1"
   ]
  },
  {
   "cell_type": "code",
   "id": "c0af7f82-249c-44ae-81cb-5a5dd026a3a7",
   "metadata": {
    "ExecuteTime": {
     "end_time": "2025-04-01T17:44:44.932241Z",
     "start_time": "2025-04-01T17:44:38.519349Z"
    }
   },
   "source": [
    "print(\"Welcome to the Band Name Generator!\")\n",
    "city = input('What is the name of the city you grew up in?\\n')\n",
    "pet_name = input(\"What was/is your favorite pet's name?\\n\")\n",
    "band_name = city.capitalize() + ' ' + pet_name.capitalize()\n",
    "print(\"Your band name could be: \"+ band_name)"
   ],
   "outputs": [
    {
     "name": "stdout",
     "output_type": "stream",
     "text": [
      "Welcome to the Band Name Generator!\n",
      "Your band name could be: Jgh Bh\n"
     ]
    }
   ],
   "execution_count": 1
  },
  {
   "cell_type": "markdown",
   "id": "2883b860-9bf8-489c-83b1-b97b099ce9ff",
   "metadata": {
    "jp-MarkdownHeadingCollapsed": true
   },
   "source": [
    "### Day 2"
   ]
  },
  {
   "cell_type": "code",
   "id": "4f8817ec-ffcb-489e-9ff3-eb0e5af86f81",
   "metadata": {
    "ExecuteTime": {
     "end_time": "2025-04-01T17:44:58.173577Z",
     "start_time": "2025-04-01T17:44:46.544108Z"
    }
   },
   "source": [
    "print('Welcome to the tip calculator!')\n",
    "total_bill = float(input(\"what is the total bill?: $\"))\n",
    "tip_amount = int(input(\"How much would you like to tip?:\"))\n",
    "tip = total_bill * tip_amount/100\n",
    "total_persons_paying = int(input('How many persons will split the bill?'))\n",
    "split =  (total_bill + tip) / total_persons_paying\n",
    "print('\\nEach person should pay $',round(split,2))"
   ],
   "outputs": [
    {
     "name": "stdout",
     "output_type": "stream",
     "text": [
      "Welcome to the tip calculator!\n",
      "\n",
      "Each person should pay $ 319.93\n"
     ]
    }
   ],
   "execution_count": 2
  },
  {
   "cell_type": "markdown",
   "id": "ac370d56-74b4-402f-8dd8-9b0f03770970",
   "metadata": {
    "jp-MarkdownHeadingCollapsed": true
   },
   "source": [
    "### Day 3"
   ]
  },
  {
   "cell_type": "code",
   "id": "94a47df9-8ebe-4a67-838e-f93eda3f3017",
   "metadata": {
    "ExecuteTime": {
     "end_time": "2025-04-01T17:47:23.365082Z",
     "start_time": "2025-04-01T17:47:14.287035Z"
    }
   },
   "source": [
    "print(\"Welcome to Python Pizza Deliveries!\")\n",
    "size = input(\"What size pizza do you want? S, M or L: \").lower()\n",
    "pepperoni = input(\"Do you want pepperoni on your pizza?: Y or N: \").lower()\n",
    "extra_cheese = input(\"Do you want extra cheese? Y or N: \").lower()\n",
    "\n",
    "price = 0\n",
    "\n",
    "if size == 's':\n",
    "    price += 15\n",
    "elif size == 'm':\n",
    "    price += 20\n",
    "elif size == 'l':\n",
    "    price += 25\n",
    "else:\n",
    "    print(\"You typed the wrong input\")\n",
    "\n",
    "\n",
    "if pepperoni == 'y':\n",
    "    if size == 's':\n",
    "        price += 2\n",
    "    else:\n",
    "        price += 3\n",
    "\n",
    "if extra_cheese == 'y':\n",
    "    price += 1\n",
    "\n",
    "print(f'Your total is: ${price}.00!')\n"
   ],
   "outputs": [
    {
     "name": "stdout",
     "output_type": "stream",
     "text": [
      "Welcome to Python Pizza Deliveries!\n",
      "Your total is: $17.00!\n"
     ]
    }
   ],
   "execution_count": 1
  },
  {
   "metadata": {},
   "cell_type": "markdown",
   "source": "### Day 4",
   "id": "e1f27251592885fb"
  },
  {
   "metadata": {
    "ExecuteTime": {
     "end_time": "2025-04-01T23:12:28.044957Z",
     "start_time": "2025-04-01T23:12:24.333101Z"
    }
   },
   "cell_type": "code",
   "source": [
    "import random\n",
    "\n",
    "\n",
    "rock = (\"\"\"\n",
    "    _______\n",
    "---'   ____)\n",
    "      (_____)\n",
    "      (_____)\n",
    "      (____)\n",
    "---.__(___)\n",
    "\"\"\")\n",
    "\n",
    "paper = (\"\"\"\n",
    "     _______\n",
    "---'    ____)____\n",
    "           ______)\n",
    "          _______)\n",
    "         _______)\n",
    "---.__________)\n",
    "\"\"\")\n",
    "\n",
    "scissors = (\"\"\"\n",
    "    _______\n",
    "---'   ____)____\n",
    "          ______)\n",
    "       __________)\n",
    "      (____)\n",
    "---.__(___)\n",
    "\"\"\")\n",
    "\n",
    "options = [rock, paper, scissors]\n",
    "\n",
    "\n",
    "user_choice = int(input(\"Please enter a number to represent you choice of: Rock (0), paper(1), or scissors(2) \"))\n",
    "if user_choice >= 0 and user_choice <= 2:\n",
    "    print(options[user_choice])\n",
    "\n",
    "    computer_choice = random.randint(0,2)\n",
    "    print(f\"Computer chose {options[computer_choice]}.\")\n",
    "\n",
    "\n",
    "if user_choice >= 3 or user_choice <= 0:\n",
    "    print('You typed an invalid choice!.')\n",
    "elif (user_choice == 0) and (computer_choice == 2):\n",
    "    print(\"You WIN!\")\n",
    "elif (user_choice == 2) and (computer_choice == 0):\n",
    "    print(\"You LOSE!\")\n",
    "elif user_choice > computer_choice:\n",
    "    print(\"You WIN!\")\n",
    "elif computer_choice > user_choice:\n",
    "    print(\"You LOSE!\")\n",
    "\n",
    "else:\n",
    "    print(\"It's a tie!\")"
   ],
   "id": "2bb6981c104f9c81",
   "outputs": [
    {
     "name": "stdout",
     "output_type": "stream",
     "text": [
      "\n",
      "    _______\n",
      "---'   ____)____\n",
      "          ______)\n",
      "       __________)\n",
      "      (____)\n",
      "---.__(___)\n",
      "\n",
      "Computer chose \n",
      "    _______\n",
      "---'   ____)\n",
      "      (_____)\n",
      "      (_____)\n",
      "      (____)\n",
      "---.__(___)\n",
      ".\n",
      "You LOSE!\n"
     ]
    }
   ],
   "execution_count": 84
  },
  {
   "metadata": {},
   "cell_type": "markdown",
   "source": "### Day 5",
   "id": "64de7a20b5ef1d29"
  },
  {
   "metadata": {
    "ExecuteTime": {
     "end_time": "2025-04-03T02:08:16.864501Z",
     "start_time": "2025-04-03T02:08:16.860404Z"
    }
   },
   "cell_type": "code",
   "source": [
    "student_scores = [180, 124, 165, 173, 189, 169, 146]\n",
    "\n",
    "student_total = sum(student_scores)\n",
    "\n",
    "print(student_total)"
   ],
   "id": "67c33634fdd286a3",
   "outputs": [
    {
     "name": "stdout",
     "output_type": "stream",
     "text": [
      "1146\n"
     ]
    }
   ],
   "execution_count": 1
  },
  {
   "metadata": {
    "ExecuteTime": {
     "end_time": "2025-04-03T02:07:10.431771Z",
     "start_time": "2025-04-03T02:07:10.428462Z"
    }
   },
   "cell_type": "code",
   "source": [
    "sum = 0\n",
    "for score in student_scores:\n",
    "    sum += score\n",
    "\n",
    "print(sum)"
   ],
   "id": "12802d20cd8bae8",
   "outputs": [
    {
     "name": "stdout",
     "output_type": "stream",
     "text": [
      "1146\n"
     ]
    }
   ],
   "execution_count": 4
  },
  {
   "metadata": {
    "ExecuteTime": {
     "end_time": "2025-04-03T02:08:54.331607Z",
     "start_time": "2025-04-03T02:08:54.327259Z"
    }
   },
   "cell_type": "code",
   "source": [
    "student_max_score = max(student_scores)\n",
    "student_max_score"
   ],
   "id": "217a8811f195f8de",
   "outputs": [
    {
     "data": {
      "text/plain": [
       "189"
      ]
     },
     "execution_count": 6,
     "metadata": {},
     "output_type": "execute_result"
    }
   ],
   "execution_count": 6
  },
  {
   "metadata": {
    "ExecuteTime": {
     "end_time": "2025-04-03T02:09:37.761607Z",
     "start_time": "2025-04-03T02:09:37.758342Z"
    }
   },
   "cell_type": "code",
   "source": [
    "max = 0\n",
    "for score in student_scores:\n",
    "    if max < score:\n",
    "        max = score\n",
    "print(max)"
   ],
   "id": "65c3e106438e3c17",
   "outputs": [
    {
     "name": "stdout",
     "output_type": "stream",
     "text": [
      "189\n"
     ]
    }
   ],
   "execution_count": 7
  },
  {
   "metadata": {
    "ExecuteTime": {
     "end_time": "2025-04-03T02:14:21.910177Z",
     "start_time": "2025-04-03T02:14:21.877043Z"
    }
   },
   "cell_type": "code",
   "source": [
    "x = 0\n",
    "for i in range(1,101):\n",
    "    x += i\n",
    "print(x)"
   ],
   "id": "b77b15d59e53a1a9",
   "outputs": [
    {
     "name": "stdout",
     "output_type": "stream",
     "text": [
      "5050\n"
     ]
    }
   ],
   "execution_count": 8
  },
  {
   "metadata": {
    "ExecuteTime": {
     "end_time": "2025-04-03T02:17:24.315431Z",
     "start_time": "2025-04-03T02:17:24.311353Z"
    }
   },
   "cell_type": "code",
   "source": [
    "for i in range(1,101):\n",
    "    if i % 3 == 0 and i % 5 == 0:\n",
    "        print('FizzBuzz')\n",
    "    elif i % 3 == 0:\n",
    "        print('Fizz')\n",
    "    elif i % 5 == 0:\n",
    "        print('Buzz')\n",
    "    else:\n",
    "        print(i)"
   ],
   "id": "ce1cf75cafab538",
   "outputs": [
    {
     "name": "stdout",
     "output_type": "stream",
     "text": [
      "1\n",
      "2\n",
      "Fizz\n",
      "4\n",
      "Buzz\n",
      "Fizz\n",
      "7\n",
      "8\n",
      "Fizz\n",
      "Buzz\n",
      "11\n",
      "Fizz\n",
      "13\n",
      "14\n",
      "FizzBuzz\n",
      "16\n",
      "17\n",
      "Fizz\n",
      "19\n",
      "Buzz\n",
      "Fizz\n",
      "22\n",
      "23\n",
      "Fizz\n",
      "Buzz\n",
      "26\n",
      "Fizz\n",
      "28\n",
      "29\n",
      "FizzBuzz\n",
      "31\n",
      "32\n",
      "Fizz\n",
      "34\n",
      "Buzz\n",
      "Fizz\n",
      "37\n",
      "38\n",
      "Fizz\n",
      "Buzz\n",
      "41\n",
      "Fizz\n",
      "43\n",
      "44\n",
      "FizzBuzz\n",
      "46\n",
      "47\n",
      "Fizz\n",
      "49\n",
      "Buzz\n",
      "Fizz\n",
      "52\n",
      "53\n",
      "Fizz\n",
      "Buzz\n",
      "56\n",
      "Fizz\n",
      "58\n",
      "59\n",
      "FizzBuzz\n",
      "61\n",
      "62\n",
      "Fizz\n",
      "64\n",
      "Buzz\n",
      "Fizz\n",
      "67\n",
      "68\n",
      "Fizz\n",
      "Buzz\n",
      "71\n",
      "Fizz\n",
      "73\n",
      "74\n",
      "FizzBuzz\n",
      "76\n",
      "77\n",
      "Fizz\n",
      "79\n",
      "Buzz\n",
      "Fizz\n",
      "82\n",
      "83\n",
      "Fizz\n",
      "Buzz\n",
      "86\n",
      "Fizz\n",
      "88\n",
      "89\n",
      "FizzBuzz\n",
      "91\n",
      "92\n",
      "Fizz\n",
      "94\n",
      "Buzz\n",
      "Fizz\n",
      "97\n",
      "98\n",
      "Fizz\n",
      "Buzz\n"
     ]
    }
   ],
   "execution_count": 13
  },
  {
   "metadata": {
    "ExecuteTime": {
     "end_time": "2025-04-03T02:37:00.498010Z",
     "start_time": "2025-04-03T02:37:00.493372Z"
    }
   },
   "cell_type": "code",
   "source": [
    "import string\n",
    "\n",
    "letters = string.ascii_letters\n",
    "letters_list = []\n",
    "for i in range(len(letters)):\n",
    "    letters_list.append(letters[i])\n",
    "\n",
    "print(letters_list)\n",
    "\n",
    "numbers = string.digits\n",
    "numbers_list = []\n",
    "\n",
    "for i in range(len(numbers)):\n",
    "    numbers_list.append(numbers[i])\n",
    "print('\\n',numbers_list)\n",
    "\n",
    "symbols = string.punctuation\n",
    "symbols_list = []\n",
    "for i in range(len(symbols)):\n",
    "    symbols_list.append(symbols[i])\n",
    "print('\\n',symbols_list)\n"
   ],
   "id": "5bad7f1af4d1fd15",
   "outputs": [
    {
     "name": "stdout",
     "output_type": "stream",
     "text": [
      "['a', 'b', 'c', 'd', 'e', 'f', 'g', 'h', 'i', 'j', 'k', 'l', 'm', 'n', 'o', 'p', 'q', 'r', 's', 't', 'u', 'v', 'w', 'x', 'y', 'z', 'A', 'B', 'C', 'D', 'E', 'F', 'G', 'H', 'I', 'J', 'K', 'L', 'M', 'N', 'O', 'P', 'Q', 'R', 'S', 'T', 'U', 'V', 'W', 'X', 'Y', 'Z']\n",
      "\n",
      " ['0', '1', '2', '3', '4', '5', '6', '7', '8', '9']\n",
      "\n",
      " ['!', '\"', '#', '$', '%', '&', \"'\", '(', ')', '*', '+', ',', '-', '.', '/', ':', ';', '<', '=', '>', '?', '@', '[', '\\\\', ']', '^', '_', '`', '{', '|', '}', '~']\n"
     ]
    }
   ],
   "execution_count": 1
  },
  {
   "metadata": {
    "ExecuteTime": {
     "end_time": "2025-04-03T02:37:12.155647Z",
     "start_time": "2025-04-03T02:37:00.690214Z"
    }
   },
   "cell_type": "code",
   "source": [
    "num_letters = int(input(\"How many letters do you want to use in your password?: \"))\n",
    "num_symbols = int(input(\"How many symbols do you want to use in your password?: \"))\n",
    "num_numbers = int(input(\"How many numbers do you want to use in your password?: \"))\n"
   ],
   "id": "f8275ed281dda7a0",
   "outputs": [],
   "execution_count": 2
  },
  {
   "metadata": {
    "ExecuteTime": {
     "end_time": "2025-04-03T02:37:15.222284Z",
     "start_time": "2025-04-03T02:37:15.219063Z"
    }
   },
   "cell_type": "code",
   "source": "import random",
   "id": "24736b59e8efc020",
   "outputs": [],
   "execution_count": 3
  },
  {
   "metadata": {
    "ExecuteTime": {
     "end_time": "2025-04-03T02:37:16.037140Z",
     "start_time": "2025-04-03T02:37:16.033841Z"
    }
   },
   "cell_type": "code",
   "source": [
    "# Easy mode\n",
    "\n",
    "password = ''\n",
    "for i in range(num_letters):\n",
    "    password += random.choice(letters_list)\n",
    "for i in range(num_symbols):\n",
    "    password += random.choice(symbols_list)\n",
    "for i in range(num_numbers):\n",
    "    password += random.choice(numbers_list)\n",
    "\n",
    "print(password)"
   ],
   "id": "e28431b4f6a6fbae",
   "outputs": [
    {
     "name": "stdout",
     "output_type": "stream",
     "text": [
      "GEeh,*958\n"
     ]
    }
   ],
   "execution_count": 4
  },
  {
   "metadata": {
    "ExecuteTime": {
     "end_time": "2025-04-03T02:42:09.565661Z",
     "start_time": "2025-04-03T02:42:09.561018Z"
    }
   },
   "cell_type": "code",
   "source": [
    "# Hard mode\n",
    "\n",
    "password = ''\n",
    "for i in range(num_letters):\n",
    "    password += random.choice(letters_list)\n",
    "for i in range(num_symbols):\n",
    "    password += random.choice(symbols_list)\n",
    "for i in range(num_numbers):\n",
    "    password += random.choice(numbers_list)\n",
    "\n",
    "password_list = []\n",
    "for i in range(len(password)):\n",
    "    password_list.append(password[i])\n",
    "\n",
    "random.shuffle(password_list)\n",
    "\n",
    "final_password = ''\n",
    "for i in range(len(password_list)):\n",
    "    final_password += password_list[i]\n",
    "print(f'Here is your final password after shuffling: {final_password}')\n"
   ],
   "id": "e9c7b82b6a59c6e6",
   "outputs": [
    {
     "name": "stdout",
     "output_type": "stream",
     "text": [
      "Here is your final password based on your input iqMf&&815\n",
      "Here is your final password after shuffling: i1&fq5&M8\n"
     ]
    }
   ],
   "execution_count": 17
  },
  {
   "metadata": {},
   "cell_type": "code",
   "outputs": [],
   "execution_count": null,
   "source": "",
   "id": "cb4aaec73e0ee649"
  }
 ],
 "metadata": {
  "kernelspec": {
   "display_name": "Python 3 (ipykernel)",
   "language": "python",
   "name": "python3"
  },
  "language_info": {
   "codemirror_mode": {
    "name": "ipython",
    "version": 3
   },
   "file_extension": ".py",
   "mimetype": "text/x-python",
   "name": "python",
   "nbconvert_exporter": "python",
   "pygments_lexer": "ipython3",
   "version": "3.12.7"
  }
 },
 "nbformat": 4,
 "nbformat_minor": 5
}
