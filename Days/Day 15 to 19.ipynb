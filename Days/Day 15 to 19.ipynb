{
 "cells": [
  {
   "metadata": {},
   "cell_type": "markdown",
   "source": "### Day 15",
   "id": "3477efc7cae2c1b1"
  },
  {
   "metadata": {},
   "cell_type": "markdown",
   "source": [
    "` Create A Coffee Machine `\n",
    "- Three hot flavours\n",
    "- Each flavour has different recipes and price\n",
    "- Has to manage resources i.e print resources left\n",
    "- Coin operated (accepts quarters)"
   ],
   "id": "daee61318933d7c6"
  },
  {
   "metadata": {
    "ExecuteTime": {
     "end_time": "2025-05-07T00:15:20.739924Z",
     "start_time": "2025-05-07T00:15:20.736269Z"
    }
   },
   "cell_type": "code",
   "source": [
    "MENU = {\n",
    "    \"espresso\": {\n",
    "        \"ingredients\": {\n",
    "            \"water\": 50,\n",
    "            \"coffee\": 18\n",
    "        },\n",
    "        \"cost\": 1.5,\n",
    "    },\n",
    "    \"latte\": {\n",
    "        \"ingredients\": {\n",
    "            \"water\": 200,\n",
    "            \"milk\": 150,\n",
    "            \"coffee\": 24,\n",
    "        },\n",
    "        \"cost\": 2.5,\n",
    "    },\n",
    "    \"cappuccino\": {\n",
    "        \"ingredients\": {\n",
    "            \"water\": 250,\n",
    "            \"milk\": 100,\n",
    "            \"coffee\": 24,\n",
    "        },\n",
    "        \"cost\": 3.0,\n",
    "    }\n",
    "}\n",
    "\n",
    "resources = {\n",
    "    \"water\": 300,\n",
    "    \"milk\": 200,\n",
    "    \"coffee\": 100,\n",
    "}\n",
    "\n",
    "max_resources = {\n",
    "    \"water\": 300,\n",
    "    \"milk\": 200,\n",
    "    \"coffee\": 100,\n",
    "}"
   ],
   "id": "307845bd5b4ceb3d",
   "outputs": [],
   "execution_count": 171
  },
  {
   "metadata": {
    "ExecuteTime": {
     "end_time": "2025-05-07T00:41:53.072751Z",
     "start_time": "2025-05-07T00:41:40.584947Z"
    }
   },
   "cell_type": "code",
   "source": [
    "# Check if there are enough ingredients to make the selected coffee\n",
    "def can_make_coffee(coffee_type):\n",
    "    ingredients = MENU[coffee_type]['ingredients']\n",
    "    for item in ingredients:\n",
    "        # If any required resource is insufficient, inform the user and return False\n",
    "        if resources[item] < ingredients[item]:\n",
    "            print(f\"Sorry, there is not enough {item}.\")\n",
    "            return False\n",
    "    return True  # All ingredients are available\n",
    "\n",
    "# Deduct used ingredients from the resources and serve the coffee\n",
    "def make_coffee(coffee_type):\n",
    "    ingredients = MENU[coffee_type]['ingredients']\n",
    "    for item in ingredients:\n",
    "        resources[item] -= ingredients[item]\n",
    "    print(f\"Here you go! Please enjoy your {coffee_type}.\\n\")\n",
    "\n",
    "# Main function that runs the coffee machine\n",
    "def coffee_machine():\n",
    "    on = True\n",
    "    while on:\n",
    "        # Prompt user for an action\n",
    "        selection = input(\"What would you like? \\nType espresso, latte, cappuccino: \").lower()\n",
    "\n",
    "        # Turn off the machine\n",
    "        if selection == 'off':\n",
    "            print(\"Machine entering repair mode...\")\n",
    "            on = False\n",
    "\n",
    "        # Print the current available resources\n",
    "        elif selection == 'report':\n",
    "            print(f\"water: {resources['water']}\\nmilk: {resources['milk']}\\ncoffee: {resources['coffee']}\\n\")\n",
    "\n",
    "        # Refill all resources to maximum levels\n",
    "        elif selection == 'replenish':\n",
    "            for item in resources:\n",
    "                resources[item] = max_resources[item]\n",
    "            print(\"\\nResources have been replenished.\\n\")\n",
    "\n",
    "        # If user selects a valid drink\n",
    "        elif selection in MENU:\n",
    "            if can_make_coffee(selection):\n",
    "                # Start payment process\n",
    "                payment = 0\n",
    "                accepted_amounts = [0.25, 1.00]  # Accept only $0.25 and $1.00 coins\n",
    "                cost = MENU[selection]['cost']\n",
    "                print(f'You chose {selection}. Please insert ${cost}: ')\n",
    "\n",
    "                # Loop until enough money is inserted\n",
    "                while payment < cost:\n",
    "                    try:\n",
    "                        coin_type = float(input('Please insert coins: '))\n",
    "                        if coin_type in accepted_amounts:\n",
    "                            payment += coin_type\n",
    "                            print(f'${payment}. Amount remaining {cost - payment}.')\n",
    "                        else:\n",
    "                            print('Sorry, this coin is not acceptable. Please try again.')\n",
    "                    except ValueError:\n",
    "                        print(\"Invalid input. Please enter a number.\")\n",
    "\n",
    "                # If user overpays, return change\n",
    "                if payment > cost:\n",
    "                    change = payment - cost\n",
    "                    print(f\"Change: ${change:.2f}\")\n",
    "\n",
    "                # Make the coffee\n",
    "                make_coffee(selection)\n",
    "\n",
    "        # Handle invalid input\n",
    "        else:\n",
    "            print('Select a valid option. \\nPress (1) - espresso, (2) - latte, (3) - cappuccino(3)): ')\n",
    "\n",
    "coffee_machine()\n"
   ],
   "id": "b34cd7f00bf2b4b3",
   "outputs": [
    {
     "name": "stdout",
     "output_type": "stream",
     "text": [
      "water: 300\n",
      "milk: 200\n",
      "coffee: 100\n",
      "\n"
     ]
    },
    {
     "ename": "KeyboardInterrupt",
     "evalue": "Interrupted by user",
     "output_type": "error",
     "traceback": [
      "\u001B[31m---------------------------------------------------------------------------\u001B[39m",
      "\u001B[31mKeyboardInterrupt\u001B[39m                         Traceback (most recent call last)",
      "\u001B[36mCell\u001B[39m\u001B[36m \u001B[39m\u001B[32mIn[176]\u001B[39m\u001B[32m, line 73\u001B[39m\n\u001B[32m     69\u001B[39m         \u001B[38;5;66;03m# Handle invalid input\u001B[39;00m\n\u001B[32m     70\u001B[39m         \u001B[38;5;28;01melse\u001B[39;00m:\n\u001B[32m     71\u001B[39m             \u001B[38;5;28mprint\u001B[39m(\u001B[33m'\u001B[39m\u001B[33mSelect a valid option. \u001B[39m\u001B[38;5;130;01m\\n\u001B[39;00m\u001B[33mPress (1) - espresso, (2) - latte, (3) - cappuccino(3)): \u001B[39m\u001B[33m'\u001B[39m)\n\u001B[32m---> \u001B[39m\u001B[32m73\u001B[39m \u001B[43mcoffee_machine\u001B[49m\u001B[43m(\u001B[49m\u001B[43m)\u001B[49m\n",
      "\u001B[36mCell\u001B[39m\u001B[36m \u001B[39m\u001B[32mIn[176]\u001B[39m\u001B[32m, line 23\u001B[39m, in \u001B[36mcoffee_machine\u001B[39m\u001B[34m()\u001B[39m\n\u001B[32m     20\u001B[39m on = \u001B[38;5;28;01mTrue\u001B[39;00m\n\u001B[32m     21\u001B[39m \u001B[38;5;28;01mwhile\u001B[39;00m on:\n\u001B[32m     22\u001B[39m     \u001B[38;5;66;03m# Prompt user for an action\u001B[39;00m\n\u001B[32m---> \u001B[39m\u001B[32m23\u001B[39m     selection = \u001B[38;5;28;43minput\u001B[39;49m\u001B[43m(\u001B[49m\u001B[33;43m\"\u001B[39;49m\u001B[33;43mWhat would you like? \u001B[39;49m\u001B[38;5;130;43;01m\\n\u001B[39;49;00m\u001B[33;43mType espresso, latte, cappuccino: \u001B[39;49m\u001B[33;43m\"\u001B[39;49m\u001B[43m)\u001B[49m.lower()\n\u001B[32m     25\u001B[39m     \u001B[38;5;66;03m# Turn off the machine\u001B[39;00m\n\u001B[32m     26\u001B[39m     \u001B[38;5;28;01mif\u001B[39;00m selection == \u001B[33m'\u001B[39m\u001B[33moff\u001B[39m\u001B[33m'\u001B[39m:\n",
      "\u001B[36mFile \u001B[39m\u001B[32m/Library/Frameworks/Python.framework/Versions/3.12/lib/python3.12/site-packages/ipykernel/kernelbase.py:1282\u001B[39m, in \u001B[36mKernel.raw_input\u001B[39m\u001B[34m(self, prompt)\u001B[39m\n\u001B[32m   1280\u001B[39m     msg = \u001B[33m\"\u001B[39m\u001B[33mraw_input was called, but this frontend does not support input requests.\u001B[39m\u001B[33m\"\u001B[39m\n\u001B[32m   1281\u001B[39m     \u001B[38;5;28;01mraise\u001B[39;00m StdinNotImplementedError(msg)\n\u001B[32m-> \u001B[39m\u001B[32m1282\u001B[39m \u001B[38;5;28;01mreturn\u001B[39;00m \u001B[38;5;28;43mself\u001B[39;49m\u001B[43m.\u001B[49m\u001B[43m_input_request\u001B[49m\u001B[43m(\u001B[49m\n\u001B[32m   1283\u001B[39m \u001B[43m    \u001B[49m\u001B[38;5;28;43mstr\u001B[39;49m\u001B[43m(\u001B[49m\u001B[43mprompt\u001B[49m\u001B[43m)\u001B[49m\u001B[43m,\u001B[49m\n\u001B[32m   1284\u001B[39m \u001B[43m    \u001B[49m\u001B[38;5;28;43mself\u001B[39;49m\u001B[43m.\u001B[49m\u001B[43m_parent_ident\u001B[49m\u001B[43m[\u001B[49m\u001B[33;43m\"\u001B[39;49m\u001B[33;43mshell\u001B[39;49m\u001B[33;43m\"\u001B[39;49m\u001B[43m]\u001B[49m\u001B[43m,\u001B[49m\n\u001B[32m   1285\u001B[39m \u001B[43m    \u001B[49m\u001B[38;5;28;43mself\u001B[39;49m\u001B[43m.\u001B[49m\u001B[43mget_parent\u001B[49m\u001B[43m(\u001B[49m\u001B[33;43m\"\u001B[39;49m\u001B[33;43mshell\u001B[39;49m\u001B[33;43m\"\u001B[39;49m\u001B[43m)\u001B[49m\u001B[43m,\u001B[49m\n\u001B[32m   1286\u001B[39m \u001B[43m    \u001B[49m\u001B[43mpassword\u001B[49m\u001B[43m=\u001B[49m\u001B[38;5;28;43;01mFalse\u001B[39;49;00m\u001B[43m,\u001B[49m\n\u001B[32m   1287\u001B[39m \u001B[43m\u001B[49m\u001B[43m)\u001B[49m\n",
      "\u001B[36mFile \u001B[39m\u001B[32m/Library/Frameworks/Python.framework/Versions/3.12/lib/python3.12/site-packages/ipykernel/kernelbase.py:1325\u001B[39m, in \u001B[36mKernel._input_request\u001B[39m\u001B[34m(self, prompt, ident, parent, password)\u001B[39m\n\u001B[32m   1322\u001B[39m \u001B[38;5;28;01mexcept\u001B[39;00m \u001B[38;5;167;01mKeyboardInterrupt\u001B[39;00m:\n\u001B[32m   1323\u001B[39m     \u001B[38;5;66;03m# re-raise KeyboardInterrupt, to truncate traceback\u001B[39;00m\n\u001B[32m   1324\u001B[39m     msg = \u001B[33m\"\u001B[39m\u001B[33mInterrupted by user\u001B[39m\u001B[33m\"\u001B[39m\n\u001B[32m-> \u001B[39m\u001B[32m1325\u001B[39m     \u001B[38;5;28;01mraise\u001B[39;00m \u001B[38;5;167;01mKeyboardInterrupt\u001B[39;00m(msg) \u001B[38;5;28;01mfrom\u001B[39;00m\u001B[38;5;250m \u001B[39m\u001B[38;5;28;01mNone\u001B[39;00m\n\u001B[32m   1326\u001B[39m \u001B[38;5;28;01mexcept\u001B[39;00m \u001B[38;5;167;01mException\u001B[39;00m:\n\u001B[32m   1327\u001B[39m     \u001B[38;5;28mself\u001B[39m.log.warning(\u001B[33m\"\u001B[39m\u001B[33mInvalid Message:\u001B[39m\u001B[33m\"\u001B[39m, exc_info=\u001B[38;5;28;01mTrue\u001B[39;00m)\n",
      "\u001B[31mKeyboardInterrupt\u001B[39m: Interrupted by user"
     ]
    }
   ],
   "execution_count": 176
  },
  {
   "metadata": {},
   "cell_type": "markdown",
   "source": "### Day 16",
   "id": "5966e8413040dadc"
  },
  {
   "metadata": {},
   "cell_type": "code",
   "outputs": [],
   "execution_count": null,
   "source": "",
   "id": "1610eaf20ed2b225"
  }
 ],
 "metadata": {
  "kernelspec": {
   "display_name": "Python 3",
   "language": "python",
   "name": "python3"
  },
  "language_info": {
   "codemirror_mode": {
    "name": "ipython",
    "version": 2
   },
   "file_extension": ".py",
   "mimetype": "text/x-python",
   "name": "python",
   "nbconvert_exporter": "python",
   "pygments_lexer": "ipython2",
   "version": "2.7.6"
  }
 },
 "nbformat": 4,
 "nbformat_minor": 5
}
